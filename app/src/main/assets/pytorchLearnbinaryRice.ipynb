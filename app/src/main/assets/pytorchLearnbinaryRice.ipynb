{
 "cells": [
  {
   "cell_type": "code",
   "execution_count": 1,
   "metadata": {
    "colab": {
     "base_uri": "https://localhost:8080/"
    },
    "id": "0l0-bK15htVP",
    "outputId": "e1a84fcf-b867-4cb7-d852-aad66cadf220"
   },
   "outputs": [
    {
     "name": "stdout",
     "output_type": "stream",
     "text": [
      "cuda\n"
     ]
    }
   ],
   "source": [
    "import torch\n",
    "import torch.nn as nn #layerss of neural network\n",
    "from torch.optim import Adam #adam optimizer\n",
    "from torch.utils.data import dataset, dataloader, DataLoader\n",
    "from torchsummary import summary #to knowe the summmery of the model\n",
    "from sklearn.model_selection import train_test_split\n",
    "from sklearn.metrics import accuracy_score #because we are using binary classification\n",
    "import matplotlib.pyplot as plt\n",
    "import pandas as pd\n",
    "import numpy as np\n",
    "from torch.utils.data import Dataset\n",
    "\n",
    "#pytorch do not automatically detect the gpu we need to assign it so\n",
    "device = torch.device('cuda' if torch.cuda.is_available() else 'cpu')\n",
    "print(device)\n",
    "\n"
   ]
  },
  {
   "cell_type": "code",
   "execution_count": 2,
   "metadata": {
    "colab": {
     "base_uri": "https://localhost:8080/",
     "height": 226
    },
    "id": "rVSr6fd7rHAY",
    "outputId": "348036f1-5230-47a2-fb8f-bcf239136287"
   },
   "outputs": [
    {
     "data": {
      "text/html": [
       "<div>\n",
       "<style scoped>\n",
       "    .dataframe tbody tr th:only-of-type {\n",
       "        vertical-align: middle;\n",
       "    }\n",
       "\n",
       "    .dataframe tbody tr th {\n",
       "        vertical-align: top;\n",
       "    }\n",
       "\n",
       "    .dataframe thead th {\n",
       "        text-align: right;\n",
       "    }\n",
       "</style>\n",
       "<table border=\"1\" class=\"dataframe\">\n",
       "  <thead>\n",
       "    <tr style=\"text-align: right;\">\n",
       "      <th></th>\n",
       "      <th>id</th>\n",
       "      <th>Area</th>\n",
       "      <th>MajorAxisLength</th>\n",
       "      <th>MinorAxisLength</th>\n",
       "      <th>Eccentricity</th>\n",
       "      <th>ConvexArea</th>\n",
       "      <th>EquivDiameter</th>\n",
       "      <th>Extent</th>\n",
       "      <th>Perimeter</th>\n",
       "      <th>Roundness</th>\n",
       "      <th>AspectRation</th>\n",
       "      <th>Class</th>\n",
       "    </tr>\n",
       "  </thead>\n",
       "  <tbody>\n",
       "    <tr>\n",
       "      <th>0</th>\n",
       "      <td>1</td>\n",
       "      <td>4537</td>\n",
       "      <td>92.229316</td>\n",
       "      <td>64.012769</td>\n",
       "      <td>0.719916</td>\n",
       "      <td>4677</td>\n",
       "      <td>76.004525</td>\n",
       "      <td>0.657536</td>\n",
       "      <td>273.085</td>\n",
       "      <td>0.764510</td>\n",
       "      <td>1.440796</td>\n",
       "      <td>1</td>\n",
       "    </tr>\n",
       "    <tr>\n",
       "      <th>1</th>\n",
       "      <td>2</td>\n",
       "      <td>2872</td>\n",
       "      <td>74.691881</td>\n",
       "      <td>51.400454</td>\n",
       "      <td>0.725553</td>\n",
       "      <td>3015</td>\n",
       "      <td>60.471018</td>\n",
       "      <td>0.713009</td>\n",
       "      <td>208.317</td>\n",
       "      <td>0.831658</td>\n",
       "      <td>1.453137</td>\n",
       "      <td>1</td>\n",
       "    </tr>\n",
       "    <tr>\n",
       "      <th>2</th>\n",
       "      <td>3</td>\n",
       "      <td>3048</td>\n",
       "      <td>76.293164</td>\n",
       "      <td>52.043491</td>\n",
       "      <td>0.731211</td>\n",
       "      <td>3132</td>\n",
       "      <td>62.296341</td>\n",
       "      <td>0.759153</td>\n",
       "      <td>210.012</td>\n",
       "      <td>0.868434</td>\n",
       "      <td>1.465950</td>\n",
       "      <td>1</td>\n",
       "    </tr>\n",
       "    <tr>\n",
       "      <th>3</th>\n",
       "      <td>4</td>\n",
       "      <td>3073</td>\n",
       "      <td>77.033628</td>\n",
       "      <td>51.928487</td>\n",
       "      <td>0.738639</td>\n",
       "      <td>3157</td>\n",
       "      <td>62.551300</td>\n",
       "      <td>0.783529</td>\n",
       "      <td>210.657</td>\n",
       "      <td>0.870203</td>\n",
       "      <td>1.483456</td>\n",
       "      <td>1</td>\n",
       "    </tr>\n",
       "    <tr>\n",
       "      <th>4</th>\n",
       "      <td>5</td>\n",
       "      <td>3693</td>\n",
       "      <td>85.124785</td>\n",
       "      <td>56.374021</td>\n",
       "      <td>0.749282</td>\n",
       "      <td>3802</td>\n",
       "      <td>68.571668</td>\n",
       "      <td>0.769375</td>\n",
       "      <td>230.332</td>\n",
       "      <td>0.874743</td>\n",
       "      <td>1.510000</td>\n",
       "      <td>1</td>\n",
       "    </tr>\n",
       "  </tbody>\n",
       "</table>\n",
       "</div>"
      ],
      "text/plain": [
       "   id  Area  MajorAxisLength  MinorAxisLength  Eccentricity  ConvexArea  \\\n",
       "0   1  4537        92.229316        64.012769      0.719916        4677   \n",
       "1   2  2872        74.691881        51.400454      0.725553        3015   \n",
       "2   3  3048        76.293164        52.043491      0.731211        3132   \n",
       "3   4  3073        77.033628        51.928487      0.738639        3157   \n",
       "4   5  3693        85.124785        56.374021      0.749282        3802   \n",
       "\n",
       "   EquivDiameter    Extent  Perimeter  Roundness  AspectRation  Class  \n",
       "0      76.004525  0.657536    273.085   0.764510      1.440796      1  \n",
       "1      60.471018  0.713009    208.317   0.831658      1.453137      1  \n",
       "2      62.296341  0.759153    210.012   0.868434      1.465950      1  \n",
       "3      62.551300  0.783529    210.657   0.870203      1.483456      1  \n",
       "4      68.571668  0.769375    230.332   0.874743      1.510000      1  "
      ]
     },
     "execution_count": 2,
     "metadata": {},
     "output_type": "execute_result"
    }
   ],
   "source": [
    "data_df=pd.read_csv(\"D:\\\\machineLearning\\\\rice\\\\riceClassification.csv\")\n",
    "data_df.head()"
   ]
  },
  {
   "cell_type": "code",
   "execution_count": 3,
   "metadata": {
    "colab": {
     "base_uri": "https://localhost:8080/"
    },
    "id": "7VHOoJDKr-Hu",
    "outputId": "60a22173-f12c-4ae2-f752-0fb8b6cdd358"
   },
   "outputs": [
    {
     "name": "stdout",
     "output_type": "stream",
     "text": [
      "(18185, 11)\n"
     ]
    }
   ],
   "source": [
    "#preprocessing and data clening\n",
    "data_df.dropna(inplace=True)\n",
    "data_df.drop(['id'], axis= 1, inplace=True)\n",
    "data_df\n",
    "print(data_df.shape)"
   ]
  },
  {
   "cell_type": "code",
   "execution_count": 4,
   "metadata": {
    "colab": {
     "base_uri": "https://localhost:8080/"
    },
    "id": "ipSxOOs-xwrn",
    "outputId": "912bcd0f-91e9-43ff-8ff5-32ded0a1e0a1"
   },
   "outputs": [
    {
     "name": "stdout",
     "output_type": "stream",
     "text": [
      "[1 0]\n"
     ]
    }
   ],
   "source": [
    "print(data_df['Class'].unique()) #what are the values in the class column"
   ]
  },
  {
   "cell_type": "code",
   "execution_count": 5,
   "metadata": {
    "colab": {
     "base_uri": "https://localhost:8080/"
    },
    "id": "3A34RKT41qLv",
    "outputId": "8724fbfc-2bdd-4473-b3dd-75aa8286c6f5"
   },
   "outputs": [
    {
     "name": "stdout",
     "output_type": "stream",
     "text": [
      "Class\n",
      "1    9985\n",
      "0    8200\n",
      "Name: count, dtype: int64\n"
     ]
    }
   ],
   "source": [
    "print(data_df['Class'].value_counts()) #number of each item in the class column"
   ]
  },
  {
   "cell_type": "code",
   "execution_count": 6,
   "metadata": {
    "colab": {
     "base_uri": "https://localhost:8080/",
     "height": 226
    },
    "id": "IYVi9ehZ1wgP",
    "outputId": "580f73f7-07dd-4c16-a265-fedbc38cecaa"
   },
   "outputs": [
    {
     "data": {
      "text/html": [
       "<div>\n",
       "<style scoped>\n",
       "    .dataframe tbody tr th:only-of-type {\n",
       "        vertical-align: middle;\n",
       "    }\n",
       "\n",
       "    .dataframe tbody tr th {\n",
       "        vertical-align: top;\n",
       "    }\n",
       "\n",
       "    .dataframe thead th {\n",
       "        text-align: right;\n",
       "    }\n",
       "</style>\n",
       "<table border=\"1\" class=\"dataframe\">\n",
       "  <thead>\n",
       "    <tr style=\"text-align: right;\">\n",
       "      <th></th>\n",
       "      <th>Area</th>\n",
       "      <th>MajorAxisLength</th>\n",
       "      <th>MinorAxisLength</th>\n",
       "      <th>Eccentricity</th>\n",
       "      <th>ConvexArea</th>\n",
       "      <th>EquivDiameter</th>\n",
       "      <th>Extent</th>\n",
       "      <th>Perimeter</th>\n",
       "      <th>Roundness</th>\n",
       "      <th>AspectRation</th>\n",
       "      <th>Class</th>\n",
       "    </tr>\n",
       "  </thead>\n",
       "  <tbody>\n",
       "    <tr>\n",
       "      <th>0</th>\n",
       "      <td>0.444368</td>\n",
       "      <td>0.503404</td>\n",
       "      <td>0.775435</td>\n",
       "      <td>0.744658</td>\n",
       "      <td>0.424873</td>\n",
       "      <td>0.666610</td>\n",
       "      <td>0.741661</td>\n",
       "      <td>0.537029</td>\n",
       "      <td>0.844997</td>\n",
       "      <td>0.368316</td>\n",
       "      <td>1.0</td>\n",
       "    </tr>\n",
       "    <tr>\n",
       "      <th>1</th>\n",
       "      <td>0.281293</td>\n",
       "      <td>0.407681</td>\n",
       "      <td>0.622653</td>\n",
       "      <td>0.750489</td>\n",
       "      <td>0.273892</td>\n",
       "      <td>0.530370</td>\n",
       "      <td>0.804230</td>\n",
       "      <td>0.409661</td>\n",
       "      <td>0.919215</td>\n",
       "      <td>0.371471</td>\n",
       "      <td>1.0</td>\n",
       "    </tr>\n",
       "    <tr>\n",
       "      <th>2</th>\n",
       "      <td>0.298531</td>\n",
       "      <td>0.416421</td>\n",
       "      <td>0.630442</td>\n",
       "      <td>0.756341</td>\n",
       "      <td>0.284520</td>\n",
       "      <td>0.546380</td>\n",
       "      <td>0.856278</td>\n",
       "      <td>0.412994</td>\n",
       "      <td>0.959862</td>\n",
       "      <td>0.374747</td>\n",
       "      <td>1.0</td>\n",
       "    </tr>\n",
       "    <tr>\n",
       "      <th>3</th>\n",
       "      <td>0.300979</td>\n",
       "      <td>0.420463</td>\n",
       "      <td>0.629049</td>\n",
       "      <td>0.764024</td>\n",
       "      <td>0.286791</td>\n",
       "      <td>0.548616</td>\n",
       "      <td>0.883772</td>\n",
       "      <td>0.414262</td>\n",
       "      <td>0.961818</td>\n",
       "      <td>0.379222</td>\n",
       "      <td>1.0</td>\n",
       "    </tr>\n",
       "    <tr>\n",
       "      <th>4</th>\n",
       "      <td>0.361704</td>\n",
       "      <td>0.464626</td>\n",
       "      <td>0.682901</td>\n",
       "      <td>0.775033</td>\n",
       "      <td>0.345385</td>\n",
       "      <td>0.601418</td>\n",
       "      <td>0.867808</td>\n",
       "      <td>0.452954</td>\n",
       "      <td>0.966836</td>\n",
       "      <td>0.386007</td>\n",
       "      <td>1.0</td>\n",
       "    </tr>\n",
       "  </tbody>\n",
       "</table>\n",
       "</div>"
      ],
      "text/plain": [
       "       Area  MajorAxisLength  MinorAxisLength  Eccentricity  ConvexArea  \\\n",
       "0  0.444368         0.503404         0.775435      0.744658    0.424873   \n",
       "1  0.281293         0.407681         0.622653      0.750489    0.273892   \n",
       "2  0.298531         0.416421         0.630442      0.756341    0.284520   \n",
       "3  0.300979         0.420463         0.629049      0.764024    0.286791   \n",
       "4  0.361704         0.464626         0.682901      0.775033    0.345385   \n",
       "\n",
       "   EquivDiameter    Extent  Perimeter  Roundness  AspectRation  Class  \n",
       "0       0.666610  0.741661   0.537029   0.844997      0.368316    1.0  \n",
       "1       0.530370  0.804230   0.409661   0.919215      0.371471    1.0  \n",
       "2       0.546380  0.856278   0.412994   0.959862      0.374747    1.0  \n",
       "3       0.548616  0.883772   0.414262   0.961818      0.379222    1.0  \n",
       "4       0.601418  0.867808   0.452954   0.966836      0.386007    1.0  "
      ]
     },
     "execution_count": 6,
     "metadata": {},
     "output_type": "execute_result"
    }
   ],
   "source": [
    "#normalization because the values in the datasets are huge and when we multiply them with various laters of NN the values will go ever higher so to reduce the computational hardness we normalize them\n",
    "#we will change the max from column will be 1 and lowest will be 0\n",
    "original_df=data_df.copy()\n",
    "for columns in data_df.columns:\n",
    "  data_df[columns]= data_df[columns]/data_df[columns].abs().max()\n",
    "data_df.head()"
   ]
  },
  {
   "cell_type": "code",
   "execution_count": 7,
   "metadata": {
    "id": "NN29B9mu3-mX"
   },
   "outputs": [],
   "source": [
    "#splitting the dataset\n",
    "#inputs\n",
    "x=np.array(data_df.iloc[:,:-1]) #iloc takes the specific partes of the dataframe here all the rows and all the columns except of the last column\n",
    "\n",
    "y=np.array(data_df.iloc[:,-1]) #here in the column we will take only the last column\n"
   ]
  },
  {
   "cell_type": "code",
   "execution_count": 8,
   "metadata": {
    "id": "kVdA2yHY7xb3"
   },
   "outputs": [],
   "source": [
    "#split dataset into 1. training 2. validation 3. testing\n",
    "x_train, x_test, y_train, y_test=train_test_split(x,y, test_size=0.3)"
   ]
  },
  {
   "cell_type": "code",
   "execution_count": 9,
   "metadata": {
    "id": "mcPPHHd1-0Z3"
   },
   "outputs": [],
   "source": [
    "x_test, x_val, y_test, y_val=train_test_split(x_test ,y_test, test_size=0.5)"
   ]
  },
  {
   "cell_type": "code",
   "execution_count": 10,
   "metadata": {
    "colab": {
     "base_uri": "https://localhost:8080/"
    },
    "id": "fYRBchgtAiFG",
    "outputId": "20389de9-2a72-4e43-83ed-a8c29898086b"
   },
   "outputs": [
    {
     "name": "stdout",
     "output_type": "stream",
     "text": [
      "(12729, 10) (2728, 10) (2728, 10)\n"
     ]
    }
   ],
   "source": [
    "print(x_train.shape, x_test.shape, x_val.shape)"
   ]
  },
  {
   "cell_type": "code",
   "execution_count": 11,
   "metadata": {
    "id": "FmuXPHNLDZPw"
   },
   "outputs": [],
   "source": [
    "\n",
    "#convert our data to pytorch dataset object\n",
    "class dataset(Dataset):\n",
    "   def __init__(self, x, y):\n",
    "    self.x= torch.tensor(x, dtype=torch.float32).to(device) #because torch only understand tensors we conver the input \"x\" to tensors and store that in the self.x means the x of tis particular func\n",
    "    self.y= torch.tensor(y, dtype=torch.float32).to(device)\n",
    "\n",
    "    #predifined function modifying below\n",
    "\n",
    "   def __len__(self):\n",
    "      return len(self.x) #according to our dataset\n",
    "\n",
    "   def __getitem__(self, index):\n",
    "     return self.x[index], self.y[index]\n",
    "\n"
   ]
  },
  {
   "cell_type": "markdown",
   "metadata": {
    "id": "2hhuVRUlIbnT"
   },
   "source": [
    "class creation done"
   ]
  },
  {
   "cell_type": "markdown",
   "metadata": {
    "id": "9bcNpK0AIedm"
   },
   "source": [
    "now object creation"
   ]
  },
  {
   "cell_type": "code",
   "execution_count": 12,
   "metadata": {
    "id": "Q-KRiyOTEOJO"
   },
   "outputs": [],
   "source": [
    "training_data=dataset(x_train, y_train)\n",
    "validation_data=dataset(x_val, y_val)\n",
    "testing_data=dataset(x_test, y_test)"
   ]
  },
  {
   "cell_type": "code",
   "execution_count": 13,
   "metadata": {
    "id": "AsL1YeegIvCo"
   },
   "outputs": [],
   "source": [
    "#data loader\n",
    "training_dataloader=DataLoader(training_data, batch_size=8, shuffle=True) #shuffle helps to avoid bias by changing order of data\n",
    "validation_dataloader=DataLoader(validation_data, batch_size=8, shuffle=True) #btch size is the number of iteration one sample data is iterated if sample data size is 1000 then batch_size is 8 then it willl be 1000/8\n",
    "testing_dataloader=DataLoader(testing_data, batch_size=8, shuffle=True)"
   ]
  },
  {
   "cell_type": "markdown",
   "metadata": {
    "id": "7qTUKFRFloTw"
   },
   "source": [
    "build own model"
   ]
  },
  {
   "cell_type": "code",
   "execution_count": 14,
   "metadata": {
    "id": "Qa5wYWlIW269"
   },
   "outputs": [],
   "source": [
    "hiddenNeurons=10 #number of hidden neurons in the next layer\n",
    "class MyModel(nn.Module):\n",
    "  def __init__(self): #constructor\n",
    "    super(MyModel, self).__init__()\n",
    "\n",
    "    #layer creation\n",
    "    self.input_layer=nn.Linear(x.shape[1], hiddenNeurons) #linear layer is dense layer or a multi layer perceptron x.shape[1] is the number of columns of x meaning the number of inputs\n",
    "    #normal multi layer perceptron or a hidden layer\n",
    "    self.linear = nn.Linear(hiddenNeurons, 1) #input feature and output feature\n",
    "    #activation function between 0 and 1 for binary classification\n",
    "    self.sigmoid=nn.Sigmoid() #used forOutput Range Between 0 and 1\n",
    "\n",
    "\n",
    "  def forward(self, x):\n",
    "    #defie the layers of n\n",
    "    #im the forward function we specify the dataflow\n",
    "\n",
    "    x=self.input_layer(x)\n",
    "    x=self.linear(x)\n",
    "    x=self.sigmoid(x)\n",
    "    return x\n",
    "\n",
    "\n",
    "model=MyModel().to(device)\n"
   ]
  },
  {
   "cell_type": "code",
   "execution_count": 15,
   "metadata": {
    "colab": {
     "base_uri": "https://localhost:8080/"
    },
    "id": "FNOOzsrCGghB",
    "outputId": "605e5e49-d655-4cae-f056-3ceb6941dbc9"
   },
   "outputs": [
    {
     "name": "stdout",
     "output_type": "stream",
     "text": [
      "----------------------------------------------------------------\n",
      "        Layer (type)               Output Shape         Param #\n",
      "================================================================\n",
      "            Linear-1                   [-1, 10]             110\n",
      "            Linear-2                    [-1, 1]              11\n",
      "           Sigmoid-3                    [-1, 1]               0\n",
      "================================================================\n",
      "Total params: 121\n",
      "Trainable params: 121\n",
      "Non-trainable params: 0\n",
      "----------------------------------------------------------------\n",
      "Input size (MB): 0.00\n",
      "Forward/backward pass size (MB): 0.00\n",
      "Params size (MB): 0.00\n",
      "Estimated Total Size (MB): 0.00\n",
      "----------------------------------------------------------------\n"
     ]
    }
   ],
   "source": [
    "summary(model,(x.shape[1], ))"
   ]
  },
  {
   "cell_type": "markdown",
   "metadata": {
    "id": "SEFXpPabVh8s"
   },
   "source": []
  },
  {
   "cell_type": "code",
   "execution_count": 16,
   "metadata": {
    "id": "RsetK16-GyuH"
   },
   "outputs": [],
   "source": [
    "criterion=nn.BCELoss()\n",
    "optimizer=Adam(model.parameters(), lr=1e-3)"
   ]
  },
  {
   "cell_type": "markdown",
   "metadata": {
    "id": "bcOS1Cm-Vknm"
   },
   "source": [
    "training part"
   ]
  },
  {
   "cell_type": "code",
   "execution_count": 17,
   "metadata": {
    "colab": {
     "base_uri": "https://localhost:8080/"
    },
    "id": "G2sec2D8Vmt5",
    "outputId": "320d7c09-7b8e-4fd0-b0df-3a37efc5f246"
   },
   "outputs": [
    {
     "name": "stdout",
     "output_type": "stream",
     "text": [
      "epoch: 1 total loss: 0.6871, train accuracy: 10.8257\n",
      "        validation loss: 0.0527, validation accuracy: 12.5\n",
      "epoch: 2 total loss: 0.1578, train accuracy: 12.2898\n",
      "        validation loss: 0.0215, validation accuracy: 12.5\n",
      "epoch: 3 total loss: 0.0935, train accuracy: 12.3164\n",
      "        validation loss: 0.016, validation accuracy: 12.5\n",
      "epoch: 4 total loss: 0.0801, train accuracy: 12.3164\n",
      "        validation loss: 0.0139, validation accuracy: 0.0\n",
      "epoch: 5 total loss: 0.0748, train accuracy: 12.3232\n",
      "        validation loss: 0.0131, validation accuracy: 12.5\n"
     ]
    }
   ],
   "source": [
    "total_loss_train_plot=[]\n",
    "total_loss_validation_plot=[]\n",
    "total_acc_train_plot=[]\n",
    "total_acc_validation_plot=[]\n",
    "epochs=5\n",
    "for epoch in range(epochs):\n",
    "  total_acc_train=0\n",
    "  total_acc_validation=0\n",
    "  total_loss_train=0\n",
    "  total_loss_validation=0\n",
    "\n",
    "\n",
    "  for data in training_dataloader:\n",
    "    inputs, labels=data\n",
    "    prediction=model(inputs).squeeze(1)\n",
    "\n",
    "    batch_loss=criterion(prediction, labels)\n",
    "\n",
    "    total_loss_train+=batch_loss.item()\n",
    "\n",
    "    acc=((prediction).round()==labels).float().mean()\n",
    "    total_acc_train+=acc\n",
    "\n",
    "    batch_loss.backward()\n",
    "    optimizer.step()\n",
    "    optimizer.zero_grad() #when the optimizer changes the weight in this batch the optimizer resters again\n",
    "\n",
    "  with torch.no_grad():\n",
    "    for data in validation_dataloader:\n",
    "      inputs, labels=data\n",
    "      prediction=model(inputs).squeeze(1)\n",
    "\n",
    "\n",
    "      batch_loss= criterion(prediction, labels)\n",
    "      total_loss_validation+=batch_loss.item()\n",
    "\n",
    "      total_acc_validation+=acc\n",
    "  total_loss_train_plot.append(round(total_loss_train/1000, 4))\n",
    "  total_loss_validation_plot.append(round(total_loss_validation/1000, 4))\n",
    "\n",
    "\n",
    "  total_acc_train_plot.append(round(total_acc_train.item() / training_data.__len__() * 100, 4))\n",
    "  total_acc_validation_plot.append(round(total_acc_validation.item() / validation_data.__len__() * 100, 4))\n",
    "\n",
    "  print(f'''epoch: {epoch+1} total loss: {round(total_loss_train/1000, 4)}, train accuracy: {round(total_acc_train.item() / training_data.__len__() * 100, 4)}\n",
    "        validation loss: {round(total_loss_validation/1000, 4)}, validation accuracy: {round(total_acc_validation.item() / validation_data.__len__() * 100, 4)}''')\n",
    "\n",
    "\n",
    "\n"
   ]
  },
  {
   "cell_type": "markdown",
   "metadata": {
    "id": "0ZJK2FpOZQ9X"
   },
   "source": [
    "How Loss is Computed in the Code\n",
    "In your code:\n",
    "\n",
    "python\n",
    "Copy\n",
    "Edit\n",
    "batch_loss = criterion(prediction, labels)\n",
    "criterion: This is the loss function (e.g., nn.BCELoss() for binary classification).\n",
    "\n",
    "prediction: This is the model’s output (a probability between 0 and 1 after the sigmoid function).\n",
    "\n",
    "labels: These are the actual ground truth values (0 or 1).\n",
    "\n",
    "The loss function compares the predicted probability with the actual label and returns a value that tells how \"wrong\" the prediction was.\n",
    "\n",
    "For example, if the model predicts 0.9 for a sample that actually belongs to class 1, the loss will be small. If the model predicts 0.1 instead, the loss will be high.\n",
    "\n"
   ]
  },
  {
   "cell_type": "code",
   "execution_count": 18,
   "metadata": {
    "id": "1lRkWCcgVuqx"
   },
   "outputs": [],
   "source": [
    "#testing"
   ]
  },
  {
   "cell_type": "code",
   "execution_count": 19,
   "metadata": {
    "colab": {
     "base_uri": "https://localhost:8080/"
    },
    "id": "_cZfdOahVJKz",
    "outputId": "fd010752-8e82-49a3-e2fc-ea5909cf4fc1"
   },
   "outputs": [
    {
     "name": "stdout",
     "output_type": "stream",
     "text": [
      "Accuracy: 98.8636\n"
     ]
    }
   ],
   "source": [
    "with torch.no_grad():\n",
    "  total_loss_test=0\n",
    "  total_acc_test=0\n",
    "  for data in testing_dataloader:\n",
    "\n",
    "\n",
    "    inputs, labels=data\n",
    "    prediction=model(inputs).squeeze(1)\n",
    "\n",
    "    batch_loss=criterion(prediction, labels)\n",
    "    total_loss_test+=batch_loss.item()\n",
    "\n",
    "    acc=((prediction).round()==labels).float().mean()\n",
    "    total_acc_test+=acc\n",
    "\n",
    "print(f\"Accuracy:\", round(total_acc_test.item() / len(testing_dataloader) * 100, 4))\n"
   ]
  },
  {
   "cell_type": "code",
   "execution_count": 20,
   "metadata": {
    "colab": {
     "base_uri": "https://localhost:8080/",
     "height": 551
    },
    "id": "kn7QrF6Wniu-",
    "outputId": "3809f196-8ae5-40d6-81fd-c90babd0e818"
   },
   "outputs": [
    {
     "data": {
      "image/png": "[encoded data removed]",
      "text/plain": [
       "<Figure size 1500x700 with 2 Axes>"
      ]
     },
     "metadata": {},
     "output_type": "display_data"
    }
   ],
   "source": [
    "fig, axs=plt.subplots(nrows=1, ncols=2, figsize=(15, 7))\n",
    "axs[0].plot(total_loss_train_plot, label=\"train\")\n",
    "axs[0].plot(total_loss_validation_plot, label=\"validation\")\n",
    "axs[0].set_title(\"train and validationLoss over epocs\")\n",
    "axs[0].set_xlabel(\"epoch\")\n",
    "axs[0].set_ylabel(\"loss\")\n",
    "axs[0].set_ylim([0,2])\n",
    "axs[0].legend()\n",
    "\n",
    "axs[1].plot(total_acc_train_plot, label=\"train acc\")\n",
    "axs[1].plot(total_acc_validation_plot, label=\"validation acc\")\n",
    "axs[1].set_title(\"train and validationLoss over epocs\")\n",
    "axs[1].set_xlabel(\"epoch\")\n",
    "axs[1].set_ylabel(\"acc\")\n",
    "axs[1].set_ylim([0,100])\n",
    "axs[1].legend()\n",
    "\n",
    "plt.show()"
   ]
  },
  {
   "cell_type": "code",
   "execution_count": 21,
   "metadata": {
    "id": "g9xD-JEEpv93"
   },
   "outputs": [],
   "source": [
    "class RiceClassifier(nn.Module):\n",
    "    def __init__(self):\n",
    "        super(RiceClassifier, self).__init__()\n",
    "        self.layer1 = nn.Linear(in_features=10, out_features=64)\n",
    "        self.relu1 = nn.ReLU()\n",
    "        self.layer2 = nn.Linear(64, 32)\n",
    "        self.relu2 = nn.ReLU()\n",
    "        self.output = nn.Linear(32, 1)\n",
    "        self.sigmoid = nn.Sigmoid()\n",
    "\n",
    "    def forward(self, x):\n",
    "        x = self.relu1(self.layer1(x))\n",
    "        x = self.relu2(self.layer2(x))\n",
    "        x = self.sigmoid(self.output(x))\n",
    "        return x\n"
   ]
  },
  {
   "cell_type": "code",
   "execution_count": 22,
   "metadata": {},
   "outputs": [],
   "source": [
    "model = RiceClassifier().to(device)\n",
    "criterion = nn.BCELoss()\n",
    "optimizer = Adam(model.parameters(), lr=0.001)\n"
   ]
  },
  {
   "cell_type": "code",
   "execution_count": 23,
   "metadata": {},
   "outputs": [
    {
     "name": "stdout",
     "output_type": "stream",
     "text": [
      "Epoch 1/20, Loss: 0.0006\n",
      "Epoch 2/20, Loss: 0.0005\n",
      "Epoch 3/20, Loss: 0.0059\n",
      "Epoch 4/20, Loss: 2.2363\n",
      "Epoch 5/20, Loss: 0.0006\n",
      "Epoch 6/20, Loss: 0.2493\n",
      "Epoch 7/20, Loss: 0.0001\n",
      "Epoch 8/20, Loss: 0.0002\n",
      "Epoch 9/20, Loss: 0.0003\n",
      "Epoch 10/20, Loss: 3.7966\n",
      "Epoch 11/20, Loss: 0.0014\n",
      "Epoch 12/20, Loss: 0.0016\n",
      "Epoch 13/20, Loss: 0.0006\n",
      "Epoch 14/20, Loss: 0.0006\n",
      "Epoch 15/20, Loss: 0.0000\n",
      "Epoch 16/20, Loss: 0.0049\n",
      "Epoch 17/20, Loss: 0.0127\n",
      "Epoch 18/20, Loss: 0.0016\n",
      "Epoch 19/20, Loss: 0.0001\n",
      "Epoch 20/20, Loss: 0.0001\n"
     ]
    }
   ],
   "source": [
    "num_epochs = 20\n",
    "for epoch in range(num_epochs):\n",
    "    model.train()\n",
    "    for features, labels in training_dataloader:\n",
    "        labels = labels.view(-1, 1)\n",
    "        outputs = model(features)\n",
    "        loss = criterion(outputs, labels)\n",
    "\n",
    "        optimizer.zero_grad()\n",
    "        loss.backward()\n",
    "        optimizer.step()\n",
    "\n",
    "    print(f\"Epoch {epoch+1}/{num_epochs}, Loss: {loss.item():.4f}\")\n"
   ]
  },
  {
   "cell_type": "code",
   "execution_count": 24,
   "metadata": {},
   "outputs": [],
   "source": [
    "scripted_model = torch.jit.script(model)\n",
    "scripted_model.save(\"rice_classifier_scripted.pt\")\n"
   ]
  },
  {
   "cell_type": "code",
   "execution_count": null,
   "metadata": {},
   "outputs": [],
   "source": []
  }
 ],
 "metadata": {
  "accelerator": "GPU",
  "colab": {
   "gpuType": "T4",
   "provenance": []
  },
  "kernelspec": {
   "display_name": "Python 3 (ipykernel)",
   "language": "python",
   "name": "python3"
  },
  "language_info": {
   "codemirror_mode": {
    "name": "ipython",
    "version": 3
   },
   "file_extension": ".py",
   "mimetype": "text/x-python",
   "name": "python",
   "nbconvert_exporter": "python",
   "pygments_lexer": "ipython3",
   "version": "3.9.13"
  }
 },
 "nbformat": 4,
 "nbformat_minor": 4
}
